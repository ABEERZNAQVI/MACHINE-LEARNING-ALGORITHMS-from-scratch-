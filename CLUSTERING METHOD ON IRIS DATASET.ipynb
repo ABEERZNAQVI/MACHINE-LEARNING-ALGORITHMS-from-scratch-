{
 "cells": [
  {
   "cell_type": "markdown",
   "metadata": {},
   "source": [
    "# IMPLEMENTING CLUSTERING METHOD ON IRIS DATASET "
   ]
  },
  {
   "cell_type": "markdown",
   "metadata": {},
   "source": [
    "This Python code implements a clustering method on the Iris dataset, a popular dataset for machine learning and pattern recognition. The dataset contains information about various features of iris flowers, such as sepal length, sepal width, petal length, petal width, and the corresponding species label.<BR>This code showcases a simple clustering method on the Iris dataset, where clusters are formed based on the mean distance of test points from the clusters' centroids. The accuracy of the clustering method provides an evaluation metric for assessing the effectiveness of the clustering approach on the Iris dataset."
   ]
  },
  {
   "cell_type": "code",
   "execution_count": 1,
   "metadata": {},
   "outputs": [],
   "source": [
    "import numpy as np\n",
    "import pandas as pd"
   ]
  },
  {
   "cell_type": "code",
   "execution_count": 2,
   "metadata": {},
   "outputs": [
    {
     "data": {
      "text/html": [
       "<div>\n",
       "<style scoped>\n",
       "    .dataframe tbody tr th:only-of-type {\n",
       "        vertical-align: middle;\n",
       "    }\n",
       "\n",
       "    .dataframe tbody tr th {\n",
       "        vertical-align: top;\n",
       "    }\n",
       "\n",
       "    .dataframe thead th {\n",
       "        text-align: right;\n",
       "    }\n",
       "</style>\n",
       "<table border=\"1\" class=\"dataframe\">\n",
       "  <thead>\n",
       "    <tr style=\"text-align: right;\">\n",
       "      <th></th>\n",
       "      <th>sepal_length</th>\n",
       "      <th>sepal_width</th>\n",
       "      <th>petal_length</th>\n",
       "      <th>petal_width</th>\n",
       "      <th>species</th>\n",
       "    </tr>\n",
       "  </thead>\n",
       "  <tbody>\n",
       "    <tr>\n",
       "      <th>0</th>\n",
       "      <td>5.1</td>\n",
       "      <td>3.5</td>\n",
       "      <td>1.4</td>\n",
       "      <td>0.2</td>\n",
       "      <td>Iris-setosa</td>\n",
       "    </tr>\n",
       "    <tr>\n",
       "      <th>1</th>\n",
       "      <td>4.9</td>\n",
       "      <td>3.0</td>\n",
       "      <td>1.4</td>\n",
       "      <td>0.2</td>\n",
       "      <td>Iris-setosa</td>\n",
       "    </tr>\n",
       "    <tr>\n",
       "      <th>2</th>\n",
       "      <td>4.7</td>\n",
       "      <td>3.2</td>\n",
       "      <td>1.3</td>\n",
       "      <td>0.2</td>\n",
       "      <td>Iris-setosa</td>\n",
       "    </tr>\n",
       "    <tr>\n",
       "      <th>3</th>\n",
       "      <td>4.6</td>\n",
       "      <td>3.1</td>\n",
       "      <td>1.5</td>\n",
       "      <td>0.2</td>\n",
       "      <td>Iris-setosa</td>\n",
       "    </tr>\n",
       "    <tr>\n",
       "      <th>4</th>\n",
       "      <td>5.0</td>\n",
       "      <td>3.6</td>\n",
       "      <td>1.4</td>\n",
       "      <td>0.2</td>\n",
       "      <td>Iris-setosa</td>\n",
       "    </tr>\n",
       "  </tbody>\n",
       "</table>\n",
       "</div>"
      ],
      "text/plain": [
       "   sepal_length  sepal_width  petal_length  petal_width      species\n",
       "0           5.1          3.5           1.4          0.2  Iris-setosa\n",
       "1           4.9          3.0           1.4          0.2  Iris-setosa\n",
       "2           4.7          3.2           1.3          0.2  Iris-setosa\n",
       "3           4.6          3.1           1.5          0.2  Iris-setosa\n",
       "4           5.0          3.6           1.4          0.2  Iris-setosa"
      ]
     },
     "execution_count": 2,
     "metadata": {},
     "output_type": "execute_result"
    }
   ],
   "source": [
    "df=pd.read_csv(\"IRIS.csv\")\n",
    "df.head(5)"
   ]
  },
  {
   "cell_type": "code",
   "execution_count": 3,
   "metadata": {},
   "outputs": [
    {
     "data": {
      "text/plain": [
       "{'Iris-versicolor': 1, 'Iris-setosa': 2, 'Iris-virginica': 3}"
      ]
     },
     "execution_count": 3,
     "metadata": {},
     "output_type": "execute_result"
    }
   ],
   "source": [
    "#number of classes\n",
    "dict1 = {}\n",
    "class_no = 1\n",
    "for index in set(df['species']):\n",
    "    dict1[index] = class_no \n",
    "    class_no +=1\n",
    "dict1"
   ]
  },
  {
   "cell_type": "code",
   "execution_count": 4,
   "metadata": {},
   "outputs": [],
   "source": [
    "#training data points and clusters\n",
    "first = np.array(df.iloc[:40,:4])\n",
    "second = np.array(df.iloc[50:90,:4])\n",
    "third = np.array(df.iloc[100:140,:4])\n",
    "\n",
    "train_data = np.zeros((120,4))\n",
    "train_data[0:40] = first\n",
    "train_data[40:80] = second\n",
    "train_data[80:120]=third\n"
   ]
  },
  {
   "cell_type": "code",
   "execution_count": 5,
   "metadata": {},
   "outputs": [],
   "source": [
    "#mean of clusters\n",
    "m1=np.mean(first,axis=0)\n",
    "m2=np.mean(second,axis=0)\n",
    "m3=np.mean(third,axis=0)"
   ]
  },
  {
   "cell_type": "code",
   "execution_count": 6,
   "metadata": {},
   "outputs": [],
   "source": [
    "#test data points\n",
    "first_test = np.array(df.iloc[40:50,:4])\n",
    "second_test = np.array(df.iloc[90:100,:4])\n",
    "third_test = np.array(df.iloc[140:150,:4])\n",
    "\n",
    "test_data = np.zeros((30,4))\n",
    "test_data[0:10] =first_test \n",
    "test_data[10:20] =second_test \n",
    "test_data[20:30] = third_test\n"
   ]
  },
  {
   "cell_type": "code",
   "execution_count": 7,
   "metadata": {},
   "outputs": [],
   "source": [
    "#distance \n",
    "l=[0]*30\n",
    "def test(x):\n",
    "    dist1 =np.sqrt(np.sum(np.square(np.subtract(m1,test_data[x,:4]))))\n",
    "    dist2 =np.sqrt(np.sum(np.square(np.subtract(m2,test_data[x,:4]))))\n",
    "    dist3 =np.sqrt(np.sum(np.square(np.subtract(m3,test_data[x,:4]))))\n",
    "    if dist1<dist2 and dist1<dist3: \n",
    "        l[x]=dict1['Iris-setosa']\n",
    "    elif dist2<dist3:\n",
    "        l[x]=dict1['Iris-versicolor']\n",
    "    else:\n",
    "        l[x]=dict1['Iris-virginica']"
   ]
  },
  {
   "cell_type": "code",
   "execution_count": 8,
   "metadata": {},
   "outputs": [
    {
     "data": {
      "text/plain": [
       "array([2, 2, 2, 2, 2, 2, 2, 2, 2, 2, 1, 1, 1, 1, 1, 1, 1, 1, 1, 1, 3, 3,\n",
       "       1, 3, 3, 3, 3, 3, 3, 3])"
      ]
     },
     "execution_count": 8,
     "metadata": {},
     "output_type": "execute_result"
    }
   ],
   "source": [
    "#prediction of classes\n",
    "for i in range (len(test_data)):\n",
    "    test(i)\n",
    "predict_data=np.array(l)\n",
    "predict_data"
   ]
  },
  {
   "cell_type": "code",
   "execution_count": 9,
   "metadata": {},
   "outputs": [
    {
     "data": {
      "text/plain": [
       "array([2, 2, 2, 2, 2, 2, 2, 2, 2, 2, 1, 1, 1, 1, 1, 1, 1, 1, 1, 1, 3, 3,\n",
       "       3, 3, 3, 3, 3, 3, 3, 3])"
      ]
     },
     "execution_count": 9,
     "metadata": {},
     "output_type": "execute_result"
    }
   ],
   "source": [
    "#classes according to original data\n",
    "first_class = np.array(df.iloc[40:50,4:5])\n",
    "second_class = np.array(df.iloc[90:100,4:5])\n",
    "third_class = np.array(df.iloc[140:150,4:5])\n",
    "\n",
    "class_data= np.array(['abc']*30 , dtype = 'object')\n",
    "class_data = class_data.reshape(30,1)\n",
    "\n",
    "class_data[0:10] =first_class \n",
    "class_data[10:20] =second_class\n",
    "class_data[20:30] = third_class\n",
    "\n",
    "m= []\n",
    "for i in class_data:\n",
    "    m.append(dict1[i[0]])\n",
    "class_data=np.array(m)\n",
    "class_data"
   ]
  },
  {
   "cell_type": "code",
   "execution_count": 10,
   "metadata": {},
   "outputs": [
    {
     "data": {
      "text/plain": [
       "96.66666666666667"
      ]
     },
     "execution_count": 10,
     "metadata": {},
     "output_type": "execute_result"
    }
   ],
   "source": [
    "#accuracy of predicted classes\n",
    "a=np.mean(class_data==predict_data)\n",
    "#accuracy percentage\n",
    "a*100"
   ]
  }
 ],
 "metadata": {
  "kernelspec": {
   "display_name": "Python 3 (ipykernel)",
   "language": "python",
   "name": "python3"
  },
  "language_info": {
   "codemirror_mode": {
    "name": "ipython",
    "version": 3
   },
   "file_extension": ".py",
   "mimetype": "text/x-python",
   "name": "python",
   "nbconvert_exporter": "python",
   "pygments_lexer": "ipython3",
   "version": "3.9.12"
  }
 },
 "nbformat": 4,
 "nbformat_minor": 2
}
