{
 "cells": [
  {
   "cell_type": "markdown",
   "id": "484c5f0d",
   "metadata": {},
   "source": [
    "# Naive Bayes Implementation"
   ]
  },
  {
   "cell_type": "markdown",
   "id": "ca1c64ca",
   "metadata": {},
   "source": [
    "The  code showcases the implementation of a Naive Bayes classifier for binary classification, specifically focusing on distinguishing between normal and tumor classes based on genetic data. The code involves data loading, model training using the Gaussian Naive Bayes algorithm from scikit-learn, and subsequent manual calculations to demonstrate the underlying probability calculations of the Naive Bayes approach."
   ]
  },
  {
   "cell_type": "code",
   "execution_count": 1,
   "id": "3a29db35",
   "metadata": {},
   "outputs": [],
   "source": [
    "import pandas as pd\n",
    "import numpy as np\n",
    "from sklearn.naive_bayes import GaussianNB"
   ]
  },
  {
   "cell_type": "code",
   "execution_count": 2,
   "id": "09ef4f38",
   "metadata": {},
   "outputs": [],
   "source": [
    "df=pd.read_csv(\"BAYES.csv\")\n",
    "data = np.array(df)\n",
    "x1 = data[0:14,1:]\n",
    "y1 = data[14:,1:]\n",
    "x = x1[:,:4]\n",
    "y = x1[:,4]\n",
    "X_TEST=[1,-1,1,1]\n",
    "# 0:normal 1:tumor "
   ]
  },
  {
   "cell_type": "code",
   "execution_count": 3,
   "id": "5340e5fe",
   "metadata": {},
   "outputs": [
    {
     "data": {
      "text/plain": [
       "array([0], dtype=int64)"
      ]
     },
     "execution_count": 3,
     "metadata": {},
     "output_type": "execute_result"
    }
   ],
   "source": [
    "model = GaussianNB()\n",
    "model.fit(x, y)\n",
    "y_pred = model.predict([[1,-1,1,1]])\n",
    "y_pred"
   ]
  },
  {
   "cell_type": "code",
   "execution_count": 4,
   "id": "364fea81",
   "metadata": {},
   "outputs": [
    {
     "name": "stdout",
     "output_type": "stream",
     "text": [
      "P(Normal) 0.35714285714285715\n",
      "P(Tumor) 0.6428571428571429\n"
     ]
    }
   ],
   "source": [
    "n,t= 0,0\n",
    "for i  in range(0,14):\n",
    "    if y[i] == 0:\n",
    "        n += 1 \n",
    "    else:\n",
    "        t += 1\n",
    "pn = n/(n+t)\n",
    "pt = t/(n+t)\n",
    "print('P(Normal)' , pn)\n",
    "print('P(Tumor)' , pt )"
   ]
  },
  {
   "cell_type": "code",
   "execution_count": 5,
   "id": "fd6b77a1",
   "metadata": {},
   "outputs": [],
   "source": [
    "s=(3,5)\n",
    "on=np.zeros(s)\n",
    "ot = np.zeros(s)\n",
    "for j in range(0,4):\n",
    "    for i  in range(0,14):\n",
    "        if x[i][j] == 1 and y[i] == 0:\n",
    "            on[0,(j+1)] += 1\n",
    "        elif x[i][j] == 0 and y[i] == 0:\n",
    "            on[1,(j+1)] += 1\n",
    "        elif x[i][j] == -1 and y[i] == 0:\n",
    "            on[2,(j+1)] +=1\n",
    "        elif x[i][j] == 1 and y[i] == 1:\n",
    "            ot[0,(j+1)] += 1\n",
    "        elif x[i][j] == 0 and y[i] == 1:\n",
    "            ot[1,(j+1)] += 1\n",
    "        elif x[i][j] == -1 and y[i] == 1:\n",
    "            ot[2,(j+1)] +=1"
   ]
  },
  {
   "cell_type": "code",
   "execution_count": 6,
   "id": "31779b85",
   "metadata": {},
   "outputs": [],
   "source": [
    "probn= {}\n",
    "probt = {}\n",
    "def prob(*fn):\n",
    "    lnormal = []\n",
    "    ltumor = []\n",
    "    for i in range(3):\n",
    "        lnormal.append(on[i,fn]/n)\n",
    "        ltumor.append(ot[i,fn]/t)\n",
    "        probn = np.array(lnormal)\n",
    "        probt = np.array(ltumor)\n",
    "    return (('NORMAL' , probn) , ('TUMOR' ,probt))"
   ]
  },
  {
   "cell_type": "code",
   "execution_count": 7,
   "id": "6fa10e46",
   "metadata": {},
   "outputs": [],
   "source": [
    "def test(Gene):\n",
    "    tn = []\n",
    "    tt = []\n",
    "    for i in range(3):\n",
    "        tn.append((on[i,Gene]/n)*pn)\n",
    "        tt.append((ot[i,Gene]/t)*pt)\n",
    "    if tn > tt:\n",
    "        return \"Class Normal\" , tn \n",
    "    else:\n",
    "        return \"Class Tumor\" , tt"
   ]
  },
  {
   "cell_type": "code",
   "execution_count": 8,
   "id": "19637ada",
   "metadata": {},
   "outputs": [
    {
     "name": "stdout",
     "output_type": "stream",
     "text": [
      "Conditional Probabilities for Gene 3:\n",
      "Normal: [[0.8]\n",
      " [0.2]\n",
      " [0. ]]\n",
      "Tumor: [[0.33333333]\n",
      " [0.66666667]\n",
      " [0.        ]]\n",
      "\n",
      "Prediction for Gene 3: Class Normal\n",
      "Probabilities: [0.28571428571428575, 0.07142857142857144, 0.0]\n"
     ]
    }
   ],
   "source": [
    "# Use the defined functions to calculate probabilities and make predictions\n",
    "gene_to_test = 3  # Choose the gene you want to test\n",
    "\n",
    "# Calculate probabilities using the defined functions\n",
    "probs = prob(gene_to_test)\n",
    "print(f\"Conditional Probabilities for Gene {gene_to_test}:\")\n",
    "print(f\"Normal: {probs[0][1]}\")\n",
    "print(f\"Tumor: {probs[1][1]}\")\n",
    "\n",
    "# Make predictions using the defined test function\n",
    "result, probabilities = test(gene_to_test)\n",
    "print(f\"\\nPrediction for Gene {gene_to_test}: {result}\")\n",
    "print(f\"Probabilities: {probabilities}\")\n"
   ]
  }
 ],
 "metadata": {
  "kernelspec": {
   "display_name": "Python 3 (ipykernel)",
   "language": "python",
   "name": "python3"
  },
  "language_info": {
   "codemirror_mode": {
    "name": "ipython",
    "version": 3
   },
   "file_extension": ".py",
   "mimetype": "text/x-python",
   "name": "python",
   "nbconvert_exporter": "python",
   "pygments_lexer": "ipython3",
   "version": "3.9.12"
  }
 },
 "nbformat": 4,
 "nbformat_minor": 5
}
