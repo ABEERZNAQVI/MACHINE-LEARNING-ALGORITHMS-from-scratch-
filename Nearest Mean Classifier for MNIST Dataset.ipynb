{
 "cells": [
  {
   "cell_type": "markdown",
   "id": "da4d4903",
   "metadata": {},
   "source": [
    "# Nearest Mean Classifier for MNIST Dataset"
   ]
  },
  {
   "cell_type": "markdown",
   "id": "f4d72b8c",
   "metadata": {},
   "source": [
    "This Python code presents a simple implementation of a nearest mean classifier on the MNIST dataset. The MNIST dataset consists of images of handwritten digits (0-9), and the classifier is designed to predict the label of each test image based on the mean feature vectors of the training set for each digit class.<BR>The use of mean feature vectors for each digit class simplifies the classification process. The accuracy metrics offer insights into the classifier's performance on the entire dataset and for each digit class individually."
   ]
  },
  {
   "cell_type": "markdown",
   "id": "e1674fba",
   "metadata": {},
   "source": [
    "Clustering by Mean:\n",
    "All samples of each digit from the training data are considered for clustering.\n",
    "The mean of each digit's samples is calculated and stored.\n",
    "Prediction:\n",
    "For each test sample, the Euclidean distance is calculated to the means of all digits.\n",
    "Clusters formed by considering all samples of each digit."
   ]
  },
  {
   "cell_type": "code",
   "execution_count": 1,
   "id": "a954bce4",
   "metadata": {},
   "outputs": [],
   "source": [
    "import numpy as np\n",
    "import pandas as pd"
   ]
  },
  {
   "cell_type": "code",
   "execution_count": 2,
   "id": "2e655cb9",
   "metadata": {},
   "outputs": [],
   "source": [
    "df=pd.read_csv(\"mnist_train.csv\")\n",
    "dt= pd.read_csv(\"mnist_test.csv\")\n",
    "test_data=(dt.to_numpy())[:,1:]\n",
    "y_test_label  = dt['label'].to_numpy()"
   ]
  },
  {
   "cell_type": "code",
   "execution_count": 3,
   "id": "27d485f4",
   "metadata": {},
   "outputs": [],
   "source": [
    "train1_data = np.array(np.zeros((60000,785)))\n",
    "for i in range(len(df)):\n",
    "    train1_data[i] = df.iloc[i][:]"
   ]
  },
  {
   "cell_type": "code",
   "execution_count": 4,
   "id": "35c1fcbe",
   "metadata": {},
   "outputs": [
    {
     "data": {
      "text/plain": [
       "{0: 1, 1: 2, 2: 3, 3: 4, 4: 5, 5: 6, 6: 7, 7: 8, 8: 9, 9: 10}"
      ]
     },
     "execution_count": 4,
     "metadata": {},
     "output_type": "execute_result"
    }
   ],
   "source": [
    "#number of classes\n",
    "dict1 = {}\n",
    "class_no = 1\n",
    "for index in set(df['label']):\n",
    "    dict1[index] = class_no \n",
    "    class_no +=1\n",
    "dict1"
   ]
  },
  {
   "cell_type": "code",
   "execution_count": 5,
   "id": "9f43cdaf",
   "metadata": {},
   "outputs": [],
   "source": [
    "c = {}\n",
    "for i in dict1.keys()  :\n",
    "     c[i]= train1_data[np.where(train1_data[:,0]==i)][:,1:]"
   ]
  },
  {
   "cell_type": "code",
   "execution_count": 6,
   "id": "c66090e6",
   "metadata": {},
   "outputs": [],
   "source": [
    "mean = [np.mean(c[d],axis = 0) for d in dict1.keys()]\n",
    "cl = [f\"mean{i}\" for i in dict1.keys()]\n",
    "means = dict(zip(cl,mean))"
   ]
  },
  {
   "cell_type": "code",
   "execution_count": 7,
   "id": "b5350215",
   "metadata": {},
   "outputs": [],
   "source": [
    "def test_(x):\n",
    "    l=[i for i in c.keys()]\n",
    "    y = []\n",
    "    for i in means.keys():\n",
    "        y.append(np.sqrt(np.sum(np.square(np.subtract(means[i],x)))))\n",
    "    d = dict(zip(l,y))\n",
    "\n",
    "    for k in d.keys(): \n",
    "        if d[k] == min(d.values()):\n",
    "            return k"
   ]
  },
  {
   "cell_type": "code",
   "execution_count": 8,
   "id": "b1f9b3d9",
   "metadata": {},
   "outputs": [],
   "source": [
    "p = []\n",
    "for x in test_data:\n",
    "    p.append(test_(x))"
   ]
  },
  {
   "cell_type": "code",
   "execution_count": 9,
   "id": "35703dbe",
   "metadata": {},
   "outputs": [
    {
     "data": {
      "text/plain": [
       "82.03"
      ]
     },
     "execution_count": 9,
     "metadata": {},
     "output_type": "execute_result"
    }
   ],
   "source": [
    "cor,incor=0,0\n",
    "\n",
    "for i in range(len(p)):\n",
    "    if p[i]==y_test_label[i]:\n",
    "        cor+=1\n",
    "    else:\n",
    "        incor+=1\n",
    "accuracy=np.multiply(np.divide(cor,len(test_data)),100)\n",
    "accuracy"
   ]
  },
  {
   "cell_type": "code",
   "execution_count": 10,
   "id": "df13b3fd",
   "metadata": {},
   "outputs": [
    {
     "name": "stdout",
     "output_type": "stream",
     "text": [
      "TOTAL:LABEL 0 =  980\n",
      "ACCURACY OF LABEL 0  = 89.59183673469387 \n",
      "TOTAL:LABEL 1 =  1135\n",
      "ACCURACY OF LABEL 1  = 96.2114537444934 \n",
      "TOTAL:LABEL 2 =  1032\n",
      "ACCURACY OF LABEL 2  = 75.67829457364341 \n",
      "TOTAL:LABEL 3 =  1010\n",
      "ACCURACY OF LABEL 3  = 80.5940594059406 \n",
      "TOTAL:LABEL 4 =  982\n",
      "ACCURACY OF LABEL 4  = 82.58655804480651 \n",
      "TOTAL:LABEL 5 =  892\n",
      "ACCURACY OF LABEL 5  = 68.60986547085201 \n",
      "TOTAL:LABEL 6 =  958\n",
      "ACCURACY OF LABEL 6  = 86.32567849686848 \n",
      "TOTAL:LABEL 7 =  1028\n",
      "ACCURACY OF LABEL 7  = 83.26848249027238 \n",
      "TOTAL:LABEL 8 =  974\n",
      "ACCURACY OF LABEL 8  = 73.71663244353182 \n",
      "TOTAL:LABEL 9 =  1009\n",
      "ACCURACY OF LABEL 9  = 80.67393458870168 \n"
     ]
    }
   ],
   "source": [
    "for i in range(0,10):\n",
    "    cor,incor=0,0\n",
    "    for j in range(len(p)):\n",
    "        if y_test_label[j]==i:\n",
    "            if p[j]==y_test_label[j]:\n",
    "                cor+=1\n",
    "            else:\n",
    "                incor+=1\n",
    "    print(f'TOTAL:LABEL {i} = ',cor+incor)\n",
    "    accuracy = np.multiply(np.divide(cor,np.count_nonzero(y_test_label==i)),100)\n",
    "    print(f\"ACCURACY OF LABEL {i}  = {accuracy} \")   "
   ]
  }
 ],
 "metadata": {
  "kernelspec": {
   "display_name": "Python 3 (ipykernel)",
   "language": "python",
   "name": "python3"
  },
  "language_info": {
   "codemirror_mode": {
    "name": "ipython",
    "version": 3
   },
   "file_extension": ".py",
   "mimetype": "text/x-python",
   "name": "python",
   "nbconvert_exporter": "python",
   "pygments_lexer": "ipython3",
   "version": "3.9.12"
  }
 },
 "nbformat": 4,
 "nbformat_minor": 5
}
